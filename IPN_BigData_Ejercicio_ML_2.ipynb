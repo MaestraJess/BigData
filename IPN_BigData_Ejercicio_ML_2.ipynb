{
  "cells": [
    {
      "cell_type": "markdown",
      "id": "133bb8e9",
      "metadata": {
        "id": "133bb8e9"
      },
      "source": [
        "**INSTITUTO POLITECNICO NACIONAL**"
      ]
    },
    {
      "cell_type": "markdown",
      "id": "0bfd060a",
      "metadata": {
        "id": "0bfd060a"
      },
      "source": [
        "\n",
        "***\n",
        "# BigData\n",
        "\n",
        "Actividad de Regresión Lineal Simple  con Pyhton\n",
        "\n",
        "Caso: Equipo de béisbol\n",
        "\n",
        "Algoritmo de regresion lineal\n",
        "MCIC. Jessica Méndez\n",
        "\n",
        "Fecha: 24/05/2023\n",
        "***"
      ]
    },
    {
      "cell_type": "markdown",
      "id": "448a0c92",
      "metadata": {
        "id": "448a0c92"
      },
      "source": [
        "<span style=\"font-size: 20pt; font-weight: bold; color: #0098cd;\">Actividad 1: Equipo de béisbol</span>\n",
        "\n",
        "Suponga que un analista de deportes quiere saber si existe una relación entre el número de veces que batean los jugadores de un equipo de béisbol y el número de runs que consigue. En caso de existir y de establecer un modelo, podría predecir el resultado del partido. \n",
        "\n",
        "**Objetivos** \n",
        "\n",
        "Realice un análisis de regresión simple en R o Python con los datos presentados. Elaborar un reporte detallado con los resultados obtenidos en formato PDF. Adicionalmente, entregar los códigos utilizados para el presente análisis."
      ]
    },
    {
      "cell_type": "markdown",
      "id": "751258b7",
      "metadata": {
        "id": "751258b7"
      },
      "source": [
        "## Librerias"
      ]
    },
    {
      "cell_type": "code",
      "execution_count": null,
      "id": "96c2c4c6",
      "metadata": {
        "id": "96c2c4c6"
      },
      "outputs": [],
      "source": [
        "# Tratamiento de datos\n",
        "# ==============================================================================\n",
        "import pandas as pd\n",
        "import numpy as np\n",
        "\n",
        "# Gráficos\n",
        "# ==============================================================================\n",
        "import matplotlib.pyplot as plt\n",
        "from matplotlib import style\n",
        "import seaborn as sns\n",
        "\n",
        "# Preprocesado y modelado\n",
        "# ==============================================================================\n",
        "from scipy.stats import pearsonr\n",
        "from sklearn.linear_model import LinearRegression\n",
        "from sklearn.model_selection import train_test_split\n",
        "from sklearn.metrics import r2_score\n",
        "from sklearn.metrics import mean_squared_error\n",
        "import statsmodels.api as sm\n",
        "import statsmodels.formula.api as smf\n",
        "\n",
        "# Configuración matplotlib\n",
        "# ==============================================================================\n",
        "plt.rcParams['image.cmap'] = \"bwr\"\n",
        "#plt.rcParams['figure.dpi'] = \"100\"\n",
        "plt.rcParams['savefig.bbox'] = \"tight\"\n",
        "style.use('ggplot') or plt.style.use('ggplot')\n",
        "\n",
        "# Configuración warnings\n",
        "# ==============================================================================\n",
        "import warnings\n",
        "warnings.filterwarnings('ignore')"
      ]
    },
    {
      "cell_type": "markdown",
      "id": "a5f1349b",
      "metadata": {
        "id": "a5f1349b"
      },
      "source": [
        "## Datos"
      ]
    },
    {
      "cell_type": "code",
      "execution_count": null,
      "id": "4d119c44",
      "metadata": {
        "colab": {
          "base_uri": "https://localhost:8080/",
          "height": 143
        },
        "id": "4d119c44",
        "outputId": "15631ec3-a0c4-4a54-8a92-95fa05ec54d5"
      },
      "outputs": [
        {
          "output_type": "execute_result",
          "data": {
            "text/plain": [
              "   equipos  bateos  runs\n",
              "0    Texas    5659   855\n",
              "1   Boston    5710   875\n",
              "2  Detroit    5563   787"
            ],
            "text/html": [
              "\n",
              "  <div id=\"df-c7059518-be13-454f-976e-178b6d8f7cee\">\n",
              "    <div class=\"colab-df-container\">\n",
              "      <div>\n",
              "<style scoped>\n",
              "    .dataframe tbody tr th:only-of-type {\n",
              "        vertical-align: middle;\n",
              "    }\n",
              "\n",
              "    .dataframe tbody tr th {\n",
              "        vertical-align: top;\n",
              "    }\n",
              "\n",
              "    .dataframe thead th {\n",
              "        text-align: right;\n",
              "    }\n",
              "</style>\n",
              "<table border=\"1\" class=\"dataframe\">\n",
              "  <thead>\n",
              "    <tr style=\"text-align: right;\">\n",
              "      <th></th>\n",
              "      <th>equipos</th>\n",
              "      <th>bateos</th>\n",
              "      <th>runs</th>\n",
              "    </tr>\n",
              "  </thead>\n",
              "  <tbody>\n",
              "    <tr>\n",
              "      <th>0</th>\n",
              "      <td>Texas</td>\n",
              "      <td>5659</td>\n",
              "      <td>855</td>\n",
              "    </tr>\n",
              "    <tr>\n",
              "      <th>1</th>\n",
              "      <td>Boston</td>\n",
              "      <td>5710</td>\n",
              "      <td>875</td>\n",
              "    </tr>\n",
              "    <tr>\n",
              "      <th>2</th>\n",
              "      <td>Detroit</td>\n",
              "      <td>5563</td>\n",
              "      <td>787</td>\n",
              "    </tr>\n",
              "  </tbody>\n",
              "</table>\n",
              "</div>\n",
              "      <button class=\"colab-df-convert\" onclick=\"convertToInteractive('df-c7059518-be13-454f-976e-178b6d8f7cee')\"\n",
              "              title=\"Convert this dataframe to an interactive table.\"\n",
              "              style=\"display:none;\">\n",
              "        \n",
              "  <svg xmlns=\"http://www.w3.org/2000/svg\" height=\"24px\"viewBox=\"0 0 24 24\"\n",
              "       width=\"24px\">\n",
              "    <path d=\"M0 0h24v24H0V0z\" fill=\"none\"/>\n",
              "    <path d=\"M18.56 5.44l.94 2.06.94-2.06 2.06-.94-2.06-.94-.94-2.06-.94 2.06-2.06.94zm-11 1L8.5 8.5l.94-2.06 2.06-.94-2.06-.94L8.5 2.5l-.94 2.06-2.06.94zm10 10l.94 2.06.94-2.06 2.06-.94-2.06-.94-.94-2.06-.94 2.06-2.06.94z\"/><path d=\"M17.41 7.96l-1.37-1.37c-.4-.4-.92-.59-1.43-.59-.52 0-1.04.2-1.43.59L10.3 9.45l-7.72 7.72c-.78.78-.78 2.05 0 2.83L4 21.41c.39.39.9.59 1.41.59.51 0 1.02-.2 1.41-.59l7.78-7.78 2.81-2.81c.8-.78.8-2.07 0-2.86zM5.41 20L4 18.59l7.72-7.72 1.47 1.35L5.41 20z\"/>\n",
              "  </svg>\n",
              "      </button>\n",
              "      \n",
              "  <style>\n",
              "    .colab-df-container {\n",
              "      display:flex;\n",
              "      flex-wrap:wrap;\n",
              "      gap: 12px;\n",
              "    }\n",
              "\n",
              "    .colab-df-convert {\n",
              "      background-color: #E8F0FE;\n",
              "      border: none;\n",
              "      border-radius: 50%;\n",
              "      cursor: pointer;\n",
              "      display: none;\n",
              "      fill: #1967D2;\n",
              "      height: 32px;\n",
              "      padding: 0 0 0 0;\n",
              "      width: 32px;\n",
              "    }\n",
              "\n",
              "    .colab-df-convert:hover {\n",
              "      background-color: #E2EBFA;\n",
              "      box-shadow: 0px 1px 2px rgba(60, 64, 67, 0.3), 0px 1px 3px 1px rgba(60, 64, 67, 0.15);\n",
              "      fill: #174EA6;\n",
              "    }\n",
              "\n",
              "    [theme=dark] .colab-df-convert {\n",
              "      background-color: #3B4455;\n",
              "      fill: #D2E3FC;\n",
              "    }\n",
              "\n",
              "    [theme=dark] .colab-df-convert:hover {\n",
              "      background-color: #434B5C;\n",
              "      box-shadow: 0px 1px 3px 1px rgba(0, 0, 0, 0.15);\n",
              "      filter: drop-shadow(0px 1px 2px rgba(0, 0, 0, 0.3));\n",
              "      fill: #FFFFFF;\n",
              "    }\n",
              "  </style>\n",
              "\n",
              "      <script>\n",
              "        const buttonEl =\n",
              "          document.querySelector('#df-c7059518-be13-454f-976e-178b6d8f7cee button.colab-df-convert');\n",
              "        buttonEl.style.display =\n",
              "          google.colab.kernel.accessAllowed ? 'block' : 'none';\n",
              "\n",
              "        async function convertToInteractive(key) {\n",
              "          const element = document.querySelector('#df-c7059518-be13-454f-976e-178b6d8f7cee');\n",
              "          const dataTable =\n",
              "            await google.colab.kernel.invokeFunction('convertToInteractive',\n",
              "                                                     [key], {});\n",
              "          if (!dataTable) return;\n",
              "\n",
              "          const docLinkHtml = 'Like what you see? Visit the ' +\n",
              "            '<a target=\"_blank\" href=https://colab.research.google.com/notebooks/data_table.ipynb>data table notebook</a>'\n",
              "            + ' to learn more about interactive tables.';\n",
              "          element.innerHTML = '';\n",
              "          dataTable['output_type'] = 'display_data';\n",
              "          await google.colab.output.renderOutput(dataTable, element);\n",
              "          const docLink = document.createElement('div');\n",
              "          docLink.innerHTML = docLinkHtml;\n",
              "          element.appendChild(docLink);\n",
              "        }\n",
              "      </script>\n",
              "    </div>\n",
              "  </div>\n",
              "  "
            ]
          },
          "metadata": {},
          "execution_count": 2
        }
      ],
      "source": [
        "# Datos\n",
        "# ==============================================================================\n",
        "equipos = [\"Texas\",\"Boston\",\"Detroit\",\"Kansas\",\"St.\",\"New_S.\",\"New_Y.\",\n",
        "           \"Milwaukee\",\"Colorado\",\"Houston\",\"Baltimore\",\"Los_An.\",\"Chicago\",\n",
        "           \"Cincinnati\",\"Los_P.\",\"Philadelphia\",\"Chicago\",\"Cleveland\",\"Arizona\",\n",
        "           \"Toronto\",\"Minnesota\",\"Florida\",\"Pittsburgh\",\"Oakland\",\"Tampa\",\n",
        "           \"Atlanta\",\"Washington\",\"San.F\",\"San.I\",\"Seattle\"]\n",
        "bateos = [5659,  5710, 5563, 5672, 5532, 5600, 5518, 5447, 5544, 5598,\n",
        "          5585, 5436, 5549, 5612, 5513, 5579, 5502, 5509, 5421, 5559,\n",
        "          5487, 5508, 5421, 5452, 5436, 5528, 5441, 5486, 5417, 5421]\n",
        "\n",
        "runs = [855, 875, 787, 730, 762, 718, 867, 721, 735, 615, 708, 644, 654, 735,\n",
        "        667, 713, 654, 704, 731, 743, 619, 625, 610, 645, 707, 641, 624, 570,\n",
        "        593, 556]\n",
        "\n",
        "datos = pd.DataFrame({'equipos': equipos, 'bateos': bateos, 'runs': runs})\n",
        "datos.head(3)"
      ]
    },
    {
      "cell_type": "markdown",
      "id": "736790e2",
      "metadata": {
        "id": "736790e2"
      },
      "source": [
        "## Representación gráfica"
      ]
    },
    {
      "cell_type": "markdown",
      "id": "0a29763c",
      "metadata": {
        "id": "0a29763c"
      },
      "source": [
        "El primer paso antes de generar un modelo de regresión simple es representar los datos para poder intuir si existe una relación y cuantificar dicha relación mediante un coeficiente de correlación."
      ]
    },
    {
      "cell_type": "code",
      "execution_count": null,
      "id": "c1847f53",
      "metadata": {
        "colab": {
          "base_uri": "https://localhost:8080/",
          "height": 404
        },
        "id": "c1847f53",
        "outputId": "ad4ab743-0822-43f6-c9ca-1de8d4992bad"
      },
      "outputs": [
        {
          "output_type": "display_data",
          "data": {
            "text/plain": [
              "<Figure size 600x384 with 1 Axes>"
            ],
            "image/png": "[encoded data removed]"
          },
          "metadata": {}
        }
      ],
      "source": [
        "# Gráfico\n",
        "# ==============================================================================\n",
        "fig, ax = plt.subplots(figsize=(6, 3.84))\n",
        "\n",
        "datos.plot(\n",
        "    x    = 'bateos',\n",
        "    y    = 'runs',\n",
        "    c    = 'firebrick',\n",
        "    kind = \"scatter\",\n",
        "    ax   = ax\n",
        ")\n",
        "ax.set_title('Distribución de bateos y runs');"
      ]
    },
    {
      "cell_type": "code",
      "execution_count": null,
      "id": "671ed376",
      "metadata": {
        "colab": {
          "base_uri": "https://localhost:8080/"
        },
        "id": "671ed376",
        "outputId": "4b7ff153-76d9-4028-9574-6b0e6570b5a4"
      },
      "outputs": [
        {
          "output_type": "stream",
          "name": "stdout",
          "text": [
            "Coeficiente de correlación de Pearson:  0.6106270467206688\n",
            "P-value:  0.0003388351359791978\n"
          ]
        }
      ],
      "source": [
        "# Correlación lineal entre las dos variables\n",
        "# ==============================================================================\n",
        "corr_test = pearsonr(x = datos['bateos'], y =  datos['runs'])\n",
        "print(\"Coeficiente de correlación de Pearson: \", corr_test[0])\n",
        "print(\"P-value: \", corr_test[1])"
      ]
    },
    {
      "cell_type": "markdown",
      "id": "bc159b67",
      "metadata": {
        "id": "bc159b67"
      },
      "source": [
        "El gráfico y el test de correlación muestran una relación lineal, de intensidad considerable (r = 0.61) y significativa (p-value = 0.000339). Tiene sentido intentar generar un modelo de regresión lineal con el objetivo de predecir el número de runs en función del número de bateos del equipo."
      ]
    },
    {
      "cell_type": "markdown",
      "id": "ff6ac501",
      "metadata": {
        "id": "ff6ac501"
      },
      "source": [
        "## Ajuste del modelo"
      ]
    },
    {
      "cell_type": "markdown",
      "id": "f7fc63ab",
      "metadata": {
        "id": "f7fc63ab"
      },
      "source": [
        "Se ajusta un modelo empleando como variable respuesta runs y como predictor bateos. Como en todo estudio predictivo, no solo es importante ajustar el modelo, sino también cuantificar su capacidad para predecir nuevas observaciones. Para poder hacer esta evaluación, se dividen los datos en dos grupos, uno de entrenamiento y otro de test."
      ]
    },
    {
      "cell_type": "markdown",
      "id": "cd90f1a0",
      "metadata": {
        "id": "cd90f1a0"
      },
      "source": [
        "## Scikit-learn"
      ]
    },
    {
      "cell_type": "code",
      "execution_count": null,
      "id": "a9b02ffe",
      "metadata": {
        "colab": {
          "base_uri": "https://localhost:8080/",
          "height": 74
        },
        "id": "a9b02ffe",
        "outputId": "5b0af04a-6779-4191-9135-bf78a99bc8ad"
      },
      "outputs": [
        {
          "output_type": "execute_result",
          "data": {
            "text/plain": [
              "LinearRegression()"
            ],
            "text/html": [
              "<style>#sk-container-id-1 {color: black;background-color: white;}#sk-container-id-1 pre{padding: 0;}#sk-container-id-1 div.sk-toggleable {background-color: white;}#sk-container-id-1 label.sk-toggleable__label {cursor: pointer;display: block;width: 100%;margin-bottom: 0;padding: 0.3em;box-sizing: border-box;text-align: center;}#sk-container-id-1 label.sk-toggleable__label-arrow:before {content: \"▸\";float: left;margin-right: 0.25em;color: #696969;}#sk-container-id-1 label.sk-toggleable__label-arrow:hover:before {color: black;}#sk-container-id-1 div.sk-estimator:hover label.sk-toggleable__label-arrow:before {color: black;}#sk-container-id-1 div.sk-toggleable__content {max-height: 0;max-width: 0;overflow: hidden;text-align: left;background-color: #f0f8ff;}#sk-container-id-1 div.sk-toggleable__content pre {margin: 0.2em;color: black;border-radius: 0.25em;background-color: #f0f8ff;}#sk-container-id-1 input.sk-toggleable__control:checked~div.sk-toggleable__content {max-height: 200px;max-width: 100%;overflow: auto;}#sk-container-id-1 input.sk-toggleable__control:checked~label.sk-toggleable__label-arrow:before {content: \"▾\";}#sk-container-id-1 div.sk-estimator input.sk-toggleable__control:checked~label.sk-toggleable__label {background-color: #d4ebff;}#sk-container-id-1 div.sk-label input.sk-toggleable__control:checked~label.sk-toggleable__label {background-color: #d4ebff;}#sk-container-id-1 input.sk-hidden--visually {border: 0;clip: rect(1px 1px 1px 1px);clip: rect(1px, 1px, 1px, 1px);height: 1px;margin: -1px;overflow: hidden;padding: 0;position: absolute;width: 1px;}#sk-container-id-1 div.sk-estimator {font-family: monospace;background-color: #f0f8ff;border: 1px dotted black;border-radius: 0.25em;box-sizing: border-box;margin-bottom: 0.5em;}#sk-container-id-1 div.sk-estimator:hover {background-color: #d4ebff;}#sk-container-id-1 div.sk-parallel-item::after {content: \"\";width: 100%;border-bottom: 1px solid gray;flex-grow: 1;}#sk-container-id-1 div.sk-label:hover label.sk-toggleable__label {background-color: #d4ebff;}#sk-container-id-1 div.sk-serial::before {content: \"\";position: absolute;border-left: 1px solid gray;box-sizing: border-box;top: 0;bottom: 0;left: 50%;z-index: 0;}#sk-container-id-1 div.sk-serial {display: flex;flex-direction: column;align-items: center;background-color: white;padding-right: 0.2em;padding-left: 0.2em;position: relative;}#sk-container-id-1 div.sk-item {position: relative;z-index: 1;}#sk-container-id-1 div.sk-parallel {display: flex;align-items: stretch;justify-content: center;background-color: white;position: relative;}#sk-container-id-1 div.sk-item::before, #sk-container-id-1 div.sk-parallel-item::before {content: \"\";position: absolute;border-left: 1px solid gray;box-sizing: border-box;top: 0;bottom: 0;left: 50%;z-index: -1;}#sk-container-id-1 div.sk-parallel-item {display: flex;flex-direction: column;z-index: 1;position: relative;background-color: white;}#sk-container-id-1 div.sk-parallel-item:first-child::after {align-self: flex-end;width: 50%;}#sk-container-id-1 div.sk-parallel-item:last-child::after {align-self: flex-start;width: 50%;}#sk-container-id-1 div.sk-parallel-item:only-child::after {width: 0;}#sk-container-id-1 div.sk-dashed-wrapped {border: 1px dashed gray;margin: 0 0.4em 0.5em 0.4em;box-sizing: border-box;padding-bottom: 0.4em;background-color: white;}#sk-container-id-1 div.sk-label label {font-family: monospace;font-weight: bold;display: inline-block;line-height: 1.2em;}#sk-container-id-1 div.sk-label-container {text-align: center;}#sk-container-id-1 div.sk-container {/* jupyter's `normalize.less` sets `[hidden] { display: none; }` but bootstrap.min.css set `[hidden] { display: none !important; }` so we also need the `!important` here to be able to override the default hidden behavior on the sphinx rendered scikit-learn.org. See: https://github.com/scikit-learn/scikit-learn/issues/21755 */display: inline-block !important;position: relative;}#sk-container-id-1 div.sk-text-repr-fallback {display: none;}</style><div id=\"sk-container-id-1\" class=\"sk-top-container\"><div class=\"sk-text-repr-fallback\"><pre>LinearRegression()</pre><b>In a Jupyter environment, please rerun this cell to show the HTML representation or trust the notebook. <br />On GitHub, the HTML representation is unable to render, please try loading this page with nbviewer.org.</b></div><div class=\"sk-container\" hidden><div class=\"sk-item\"><div class=\"sk-estimator sk-toggleable\"><input class=\"sk-toggleable__control sk-hidden--visually\" id=\"sk-estimator-id-1\" type=\"checkbox\" checked><label for=\"sk-estimator-id-1\" class=\"sk-toggleable__label sk-toggleable__label-arrow\">LinearRegression</label><div class=\"sk-toggleable__content\"><pre>LinearRegression()</pre></div></div></div></div></div>"
            ]
          },
          "metadata": {},
          "execution_count": 5
        }
      ],
      "source": [
        "# División de los datos en train y test\n",
        "# ==============================================================================\n",
        "X = datos[['bateos']]\n",
        "y = datos['runs']\n",
        "\n",
        "X_train, X_test, y_train, y_test = train_test_split(\n",
        "                                        X.values.reshape(-1,1),\n",
        "                                        y.values.reshape(-1,1),\n",
        "                                        train_size   = 0.8,\n",
        "                                        random_state = 1234,\n",
        "                                        shuffle      = True\n",
        "                                    )\n",
        "\n",
        "# Creación del modelo\n",
        "# ==============================================================================\n",
        "modelo = LinearRegression()\n",
        "modelo.fit(X = X_train.reshape(-1, 1), y = y_train)"
      ]
    },
    {
      "cell_type": "code",
      "execution_count": null,
      "id": "c0e8dd57",
      "metadata": {
        "colab": {
          "base_uri": "https://localhost:8080/"
        },
        "id": "c0e8dd57",
        "outputId": "8754408d-ddac-4937-ab70-75bf234fb6e5"
      },
      "outputs": [
        {
          "output_type": "stream",
          "name": "stdout",
          "text": [
            "Intercept: [-2367.7028413]\n",
            "Coeficiente: [('bateos', 0.5528713534479736)]\n",
            "Coeficiente de determinación R^2: 0.3586119899498744\n"
          ]
        }
      ],
      "source": [
        "# Información del modelo\n",
        "# ==============================================================================\n",
        "print(\"Intercept:\", modelo.intercept_)\n",
        "print(\"Coeficiente:\", list(zip(X.columns, modelo.coef_.flatten(), )))\n",
        "print(\"Coeficiente de determinación R^2:\", modelo.score(X, y))"
      ]
    },
    {
      "cell_type": "markdown",
      "id": "f9f70713",
      "metadata": {
        "id": "f9f70713"
      },
      "source": [
        "Una vez entrenado el modelo, se evalúa la capacidad predictiva empleando el conjunto de test"
      ]
    },
    {
      "cell_type": "code",
      "execution_count": null,
      "id": "4041bc11",
      "metadata": {
        "id": "4041bc11",
        "outputId": "e2535206-94d2-4b81-8a02-b0a3861e0b98"
      },
      "outputs": [
        {
          "name": "stdout",
          "output_type": "stream",
          "text": [
            "[[643.78742093]\n",
            " [720.0836677 ]\n",
            " [690.78148597]]\n",
            "\n",
            "El error (rmse) de test es: 59.336716083360486\n"
          ]
        }
      ],
      "source": [
        "# Error de test del modelo \n",
        "# ==============================================================================\n",
        "predicciones = modelo.predict(X = X_test)\n",
        "print(predicciones[0:3,])\n",
        "\n",
        "rmse = mean_squared_error(\n",
        "        y_true  = y_test,\n",
        "        y_pred  = predicciones,\n",
        "        squared = False\n",
        "       )\n",
        "print(\"\")\n",
        "print(f\"El error (rmse) de test es: {rmse}\")"
      ]
    },
    {
      "cell_type": "markdown",
      "id": "809daba0",
      "metadata": {
        "id": "809daba0"
      },
      "source": [
        "## Statsmodels"
      ]
    },
    {
      "cell_type": "markdown",
      "id": "0497e943",
      "metadata": {
        "id": "0497e943"
      },
      "source": [
        "La implementación de regresión lineal de Statsmodels, es más completa que la de Scikitlearn ya que, además de ajustar el modelo, permite calcular los test estadísticos y análisis necesarios para verificar que se cumplen las condiciones sobre las que se basa este tipo de modelos. Statsmodels tiene dos formas de entrenar el modelo:\n",
        "\n",
        "Indicando la fórmula del modelo y pasando los datos de entrenamiento como un dataframe que incluye la variable respuesta y los predictores. Esta forma es similar a la utilizada en R.\n",
        "\n",
        "Pasar dos matrices, una con los predictores y otra con la variable respuesta. Esta es igual a la empleada por Scikitlearn con la diferencia de que a la matriz de predictores hay que añadirle una primera columna de 1s."
      ]
    },
    {
      "cell_type": "code",
      "execution_count": null,
      "id": "4734311c",
      "metadata": {
        "id": "4734311c"
      },
      "outputs": [],
      "source": [
        "# División de los datos en train y test\n",
        "# ==============================================================================\n",
        "X = datos['bateos']\n",
        "y = datos['runs']\n",
        "\n",
        "X_train, X_test, y_train, y_test = train_test_split(\n",
        "                                        X.values.reshape(-1,1),\n",
        "                                        y.values.reshape(-1,1),\n",
        "                                        train_size   = 0.8,\n",
        "                                        random_state = 1234,\n",
        "                                        shuffle      = True\n",
        "                                    )"
      ]
    },
    {
      "cell_type": "code",
      "execution_count": null,
      "id": "99d35a27",
      "metadata": {
        "id": "99d35a27",
        "outputId": "ef70a854-424b-4ea8-ab79-86ecdd1979b2"
      },
      "outputs": [
        {
          "name": "stdout",
          "output_type": "stream",
          "text": [
            "                            OLS Regression Results                            \n",
            "==============================================================================\n",
            "Dep. Variable:                   runs   R-squared:                       0.271\n",
            "Model:                            OLS   Adj. R-squared:                  0.238\n",
            "Method:                 Least Squares   F-statistic:                     8.191\n",
            "Date:                Mon, 21 Nov 2022   Prob (F-statistic):            0.00906\n",
            "Time:                        22:34:20   Log-Likelihood:                -134.71\n",
            "No. Observations:                  24   AIC:                             273.4\n",
            "Df Residuals:                      22   BIC:                             275.8\n",
            "Df Model:                           1                                         \n",
            "Covariance Type:            nonrobust                                         \n",
            "==============================================================================\n",
            "                 coef    std err          t      P>|t|      [0.025      0.975]\n",
            "------------------------------------------------------------------------------\n",
            "Intercept  -2367.7028   1066.357     -2.220      0.037   -4579.192    -156.214\n",
            "bateos         0.5529      0.193      2.862      0.009       0.152       0.953\n",
            "==============================================================================\n",
            "Omnibus:                        5.033   Durbin-Watson:                   1.902\n",
            "Prob(Omnibus):                  0.081   Jarque-Bera (JB):                3.170\n",
            "Skew:                           0.829   Prob(JB):                        0.205\n",
            "Kurtosis:                       3.650   Cond. No.                     4.17e+05\n",
            "==============================================================================\n",
            "\n",
            "Notes:\n",
            "[1] Standard Errors assume that the covariance matrix of the errors is correctly specified.\n",
            "[2] The condition number is large, 4.17e+05. This might indicate that there are\n",
            "strong multicollinearity or other numerical problems.\n"
          ]
        }
      ],
      "source": [
        "# Creación del modelo utilizando el modo fórmula (similar a R)\n",
        "# ==============================================================================\n",
        "datos_train = pd.DataFrame(np.hstack((X_train, y_train)), columns=['bateos', 'runs'])\n",
        "modelo = smf.ols(formula = 'runs ~bateos', data = datos_train)\n",
        "modelo = modelo.fit()\n",
        "print(modelo.summary())"
      ]
    },
    {
      "cell_type": "code",
      "execution_count": null,
      "id": "6404841d",
      "metadata": {
        "id": "6404841d",
        "outputId": "89827f01-6b9d-4bf2-e6a3-9ff5ae8b925f"
      },
      "outputs": [
        {
          "name": "stdout",
          "output_type": "stream",
          "text": [
            "                            OLS Regression Results                            \n",
            "==============================================================================\n",
            "Dep. Variable:                      y   R-squared:                       0.271\n",
            "Model:                            OLS   Adj. R-squared:                  0.238\n",
            "Method:                 Least Squares   F-statistic:                     8.191\n",
            "Date:                Mon, 21 Nov 2022   Prob (F-statistic):            0.00906\n",
            "Time:                        22:34:20   Log-Likelihood:                -134.71\n",
            "No. Observations:                  24   AIC:                             273.4\n",
            "Df Residuals:                      22   BIC:                             275.8\n",
            "Df Model:                           1                                         \n",
            "Covariance Type:            nonrobust                                         \n",
            "==============================================================================\n",
            "                 coef    std err          t      P>|t|      [0.025      0.975]\n",
            "------------------------------------------------------------------------------\n",
            "const      -2367.7028   1066.357     -2.220      0.037   -4579.192    -156.214\n",
            "x1             0.5529      0.193      2.862      0.009       0.152       0.953\n",
            "==============================================================================\n",
            "Omnibus:                        5.033   Durbin-Watson:                   1.902\n",
            "Prob(Omnibus):                  0.081   Jarque-Bera (JB):                3.170\n",
            "Skew:                           0.829   Prob(JB):                        0.205\n",
            "Kurtosis:                       3.650   Cond. No.                     4.17e+05\n",
            "==============================================================================\n",
            "\n",
            "Notes:\n",
            "[1] Standard Errors assume that the covariance matrix of the errors is correctly specified.\n",
            "[2] The condition number is large, 4.17e+05. This might indicate that there are\n",
            "strong multicollinearity or other numerical problems.\n"
          ]
        }
      ],
      "source": [
        "# Creación del modelo utilizando matrices como en scikitlearn\n",
        "# ==============================================================================\n",
        "# A la matriz de predictores se le tiene que añadir una columna de 1s para el intercept del modelo\n",
        "X_train = sm.add_constant(X_train, prepend=True)\n",
        "modelo = sm.OLS(endog=y_train, exog=X_train,)\n",
        "modelo = modelo.fit()\n",
        "print(modelo.summary())"
      ]
    },
    {
      "cell_type": "markdown",
      "id": "01a76d65",
      "metadata": {
        "id": "01a76d65"
      },
      "source": [
        "## Intervalos de confianza de los coeficientes"
      ]
    },
    {
      "cell_type": "code",
      "execution_count": null,
      "id": "99b08a51",
      "metadata": {
        "id": "99b08a51",
        "outputId": "8377572e-c2c9-455e-cf6a-a08bc26a1dd4"
      },
      "outputs": [
        {
          "data": {
            "text/plain": [
              "array([[-4.57919205e+03, -1.56213633e+02],\n",
              "       [ 1.52244180e-01,  9.53498527e-01]])"
            ]
          },
          "execution_count": 11,
          "metadata": {},
          "output_type": "execute_result"
        }
      ],
      "source": [
        "# Intervalos de confianza para los coeficientes del modelo\n",
        "# ==============================================================================\n",
        "modelo.conf_int(alpha=0.05)"
      ]
    },
    {
      "cell_type": "markdown",
      "id": "1e160c64",
      "metadata": {
        "id": "1e160c64"
      },
      "source": [
        "## Predicciones"
      ]
    },
    {
      "cell_type": "markdown",
      "id": "2e6dc89d",
      "metadata": {
        "id": "2e6dc89d"
      },
      "source": [
        "Una vez entrenado el modelo, se pueden obtener predicciones para nuevos datos. Los modelos de statsmodels permiten calcular las predicciones de dos formas:\n",
        "\n",
        ".predict(): devuelve únicamente el valor de las predicciones.\n",
        "\n",
        ".get_prediction().summary_frame(): devuelve, además de las predicciones, los intervalos de confianza asociados."
      ]
    },
    {
      "cell_type": "code",
      "execution_count": null,
      "id": "bea16a42",
      "metadata": {
        "id": "bea16a42",
        "outputId": "802bdd70-45b7-42e6-89ed-5aef9ef68238"
      },
      "outputs": [
        {
          "data": {
            "text/html": [
              "<div>\n",
              "<style scoped>\n",
              "    .dataframe tbody tr th:only-of-type {\n",
              "        vertical-align: middle;\n",
              "    }\n",
              "\n",
              "    .dataframe tbody tr th {\n",
              "        vertical-align: top;\n",
              "    }\n",
              "\n",
              "    .dataframe thead th {\n",
              "        text-align: right;\n",
              "    }\n",
              "</style>\n",
              "<table border=\"1\" class=\"dataframe\">\n",
              "  <thead>\n",
              "    <tr style=\"text-align: right;\">\n",
              "      <th></th>\n",
              "      <th>mean</th>\n",
              "      <th>mean_se</th>\n",
              "      <th>mean_ci_lower</th>\n",
              "      <th>mean_ci_upper</th>\n",
              "      <th>obs_ci_lower</th>\n",
              "      <th>obs_ci_upper</th>\n",
              "    </tr>\n",
              "  </thead>\n",
              "  <tbody>\n",
              "    <tr>\n",
              "      <th>0</th>\n",
              "      <td>768.183475</td>\n",
              "      <td>32.658268</td>\n",
              "      <td>700.454374</td>\n",
              "      <td>835.912577</td>\n",
              "      <td>609.456054</td>\n",
              "      <td>926.910897</td>\n",
              "    </tr>\n",
              "    <tr>\n",
              "      <th>1</th>\n",
              "      <td>646.551778</td>\n",
              "      <td>19.237651</td>\n",
              "      <td>606.655332</td>\n",
              "      <td>686.448224</td>\n",
              "      <td>497.558860</td>\n",
              "      <td>795.544695</td>\n",
              "    </tr>\n",
              "    <tr>\n",
              "      <th>2</th>\n",
              "      <td>680.276930</td>\n",
              "      <td>14.186441</td>\n",
              "      <td>650.856053</td>\n",
              "      <td>709.697807</td>\n",
              "      <td>533.741095</td>\n",
              "      <td>826.812765</td>\n",
              "    </tr>\n",
              "    <tr>\n",
              "      <th>3</th>\n",
              "      <td>735.011194</td>\n",
              "      <td>22.767596</td>\n",
              "      <td>687.794091</td>\n",
              "      <td>782.228298</td>\n",
              "      <td>583.893300</td>\n",
              "      <td>886.129088</td>\n",
              "    </tr>\n",
              "  </tbody>\n",
              "</table>\n",
              "</div>"
            ],
            "text/plain": [
              "         mean    mean_se  mean_ci_lower  mean_ci_upper  obs_ci_lower  \\\n",
              "0  768.183475  32.658268     700.454374     835.912577    609.456054   \n",
              "1  646.551778  19.237651     606.655332     686.448224    497.558860   \n",
              "2  680.276930  14.186441     650.856053     709.697807    533.741095   \n",
              "3  735.011194  22.767596     687.794091     782.228298    583.893300   \n",
              "\n",
              "   obs_ci_upper  \n",
              "0    926.910897  \n",
              "1    795.544695  \n",
              "2    826.812765  \n",
              "3    886.129088  "
            ]
          },
          "execution_count": 12,
          "metadata": {},
          "output_type": "execute_result"
        }
      ],
      "source": [
        "# Predicciones con intervalo de confianza del 95%\n",
        "# ==============================================================================\n",
        "predicciones = modelo.get_prediction(exog = X_train).summary_frame(alpha=0.05)\n",
        "predicciones.head(4)"
      ]
    },
    {
      "cell_type": "markdown",
      "id": "d44a47e5",
      "metadata": {
        "id": "d44a47e5"
      },
      "source": [
        "## Representación gráfica del modelo"
      ]
    },
    {
      "cell_type": "markdown",
      "id": "50b05eda",
      "metadata": {
        "id": "50b05eda"
      },
      "source": [
        "Además de la línea de mínimos cuadrados, es recomendable incluir los límites superior e inferior del intervalo de confianza. Esto permite identificar la región en la que, según el modelo generado y para un determinado nivel de confianza, se encuentra el valor promedio de la variable respuesta"
      ]
    },
    {
      "cell_type": "code",
      "execution_count": null,
      "id": "9a3fb384",
      "metadata": {
        "id": "9a3fb384",
        "outputId": "9cfe2a8e-33cc-4c62-cb11-61a00171c05d"
      },
      "outputs": [
        {
          "data": {
            "image/png": "[encoded data removed]",
            "text/plain": [
              "<Figure size 432x276.48 with 1 Axes>"
            ]
          },
          "metadata": {
            "needs_background": "light"
          },
          "output_type": "display_data"
        }
      ],
      "source": [
        "# Predicciones con intervalo de confianza del 95%\n",
        "# ==============================================================================\n",
        "predicciones = modelo.get_prediction(exog = X_train).summary_frame(alpha=0.05)\n",
        "predicciones['x'] = X_train[:, 1]\n",
        "predicciones['y'] = y_train\n",
        "predicciones = predicciones.sort_values('x')\n",
        "\n",
        "# Gráfico del modelo\n",
        "# ==============================================================================\n",
        "fig, ax = plt.subplots(figsize=(6, 3.84))\n",
        "\n",
        "ax.scatter(predicciones['x'], predicciones['y'], marker='o', color = \"gray\")\n",
        "ax.plot(predicciones['x'], predicciones[\"mean\"], linestyle='-', label=\"OLS\")\n",
        "ax.plot(predicciones['x'], predicciones[\"mean_ci_lower\"], linestyle='--', color='red', label=\"95% CI\")\n",
        "ax.plot(predicciones['x'], predicciones[\"mean_ci_upper\"], linestyle='--', color='red')\n",
        "ax.fill_between(predicciones['x'], predicciones[\"mean_ci_lower\"], predicciones[\"mean_ci_upper\"], alpha=0.1)\n",
        "ax.legend();"
      ]
    },
    {
      "cell_type": "markdown",
      "id": "c1c57978",
      "metadata": {
        "id": "c1c57978"
      },
      "source": [
        "## Error de test"
      ]
    },
    {
      "cell_type": "code",
      "execution_count": null,
      "id": "25aee62b",
      "metadata": {
        "id": "25aee62b",
        "outputId": "1ea2dd2c-4e14-4eb1-8176-629a92f41318"
      },
      "outputs": [
        {
          "name": "stdout",
          "output_type": "stream",
          "text": [
            "\n",
            "El error (rmse) de test es: 59.33671608336119\n"
          ]
        }
      ],
      "source": [
        "# Error de test del modelo \n",
        "# ==============================================================================\n",
        "X_test = sm.add_constant(X_test, prepend=True)\n",
        "predicciones = modelo.predict(exog = X_test)\n",
        "rmse = mean_squared_error(\n",
        "        y_true  = y_test,\n",
        "        y_pred  = predicciones,\n",
        "        squared = False\n",
        "       )\n",
        "print(\"\")\n",
        "print(f\"El error (rmse) de test es: {rmse}\")"
      ]
    },
    {
      "cell_type": "markdown",
      "id": "b71ad68c",
      "metadata": {
        "id": "b71ad68c"
      },
      "source": [
        "## Interpretación"
      ]
    },
    {
      "cell_type": "markdown",
      "id": "060747e0",
      "metadata": {
        "id": "060747e0"
      },
      "source": [
        "La columna (coef) devuelve el valor estimado para los dos parámetros de la ecuación del modelo lineal ( β^0  y  β^1 ) que equivalen a la ordenada en el origen (intercept o const) y a la pendiente. Se muestran también los errores estándar, el valor del estadístico t y el p-value (dos colas) de cada uno de los dos parámetros. Esto permite determinar si los predictores son significativamente distintos de 0, es decir, que tienen importancia en el modelo. Para el modelo generado, tanto la ordenada en el origen como la pendiente son significativas (p-values < 0.05).\n",
        "\n",
        "El valor de R-squared indica que el modelo es capaz de explicar el 27.1% de la variabilidad observada en la variable respuesta (runs). Además, el p-value obtenido en el test F (Prob (F-statistic) = 0.00906) indica que sí hay evidencias de que la varianza explicada por el modelo es superior a la esperada por azar (varianza total).\n",
        "\n",
        "El modelo lineal generado sigue la ecuación:\n",
        "\n",
        "runs = -2367.7028 + 0.6305 bateos\n",
        " \n",
        "Por cada unidad que se incrementa el número de bateos, el número de runs aumenta en promedio 0.6305 unidades.\n",
        "\n",
        "El error de test del modelo es de 59.34. Las predicciones del modelo final se alejan en promedio 59.34 unidades del valor real."
      ]
    }
  ],
  "metadata": {
    "kernelspec": {
      "display_name": "Python 3 (ipykernel)",
      "language": "python",
      "name": "python3"
    },
    "language_info": {
      "codemirror_mode": {
        "name": "ipython",
        "version": 3
      },
      "file_extension": ".py",
      "mimetype": "text/x-python",
      "name": "python",
      "nbconvert_exporter": "python",
      "pygments_lexer": "ipython3",
      "version": "3.9.12"
    },
    "colab": {
      "provenance": []
    }
  },
  "nbformat": 4,
  "nbformat_minor": 5
}