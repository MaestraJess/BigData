{
 "cells": [
  {
   "cell_type": "markdown",
   "metadata": {},
   "source": [
    "# Ejercicio 4\n",
    "Divide aleatoriamente la base de datos de cáncer de seno de Wisconsin en un conjunto de entrenamiento con el 70 % de los datos y un conjunto de validación con el 30 % restante. Esta base de datos contiene 699 registros de tumores de seno, de los cuales 458 son benignos y 241 son malignos.\n",
    "\n",
    "Cada registro consta de los siguientes atributos:\n",
    "\n",
    "Número Atributo Valores\n",
    "1 Código de la muestra ID <br>\n",
    "2 Grosor del tumor 1–10 <br>\n",
    "3 Uniformidad del tama˜no de la célula 1–10 <br>\n",
    "4 Uniformidad de la forma de la célula 1–10 <br>\n",
    "5 Adhesión marginal 1–10 <br>\n",
    "6 Tamaño de célula epitelial 1–10 <br>\n",
    "7 Núcleos desnudos 1–10 <br>\n",
    "8 Cromatina blanda 1–10 <br>\n",
    "9 Nucléolos normales 1–10 <br>\n",
    "10 Mitosis de células 1–10 <br>\n",
    "11 Clase 2 para benigno, 4 para maligno <br>\n",
    "\n",
    "Entrena al menos 2 clasificadores de tumores de seno usando distintas distribuciones. Evalúa los clasificadores entrenados tanto con el conjunto de entrenamiento como con el conjunto de validación y discute su desempeño. Existen 16 registros en la base de datos con un atributo no especificado. \n",
    "\n",
    "Investiga estrategias para rellenar los datos faltantes, utiliza las que consideres más adecuadas para\n",
    "este problema y discute el impacto en el desempeño del clasificador.\n",
    "\n",
    "\n",
    "\n",
    "## Datos\n",
    "Primero leeremos los datos, y los preprocesaremos para tenerlos \"preparados\" para las librerías que vamos a usar.\n",
    "Cabe mencionar que la primer columna, al ser un identificador, lo eliminaremos.\n",
    "\n",
    "Además, se ha especificado que existen 16 atributos sin un valor. Se encontró que el marcador que indica este fenómeno es \"?\", por lo que se procederá a reemplazar ese dato con la media de la característica donde se encuentre, utilizando la función SimpleImputer de ScikitLearn: https://scikit-learn.org/stable/modules/generated/sklearn.impute.SimpleImputer.html"
   ]
  },
  {
   "cell_type": "code",
   "execution_count": 63,
   "metadata": {},
   "outputs": [
    {
     "name": "stdout",
     "output_type": "stream",
     "text": [
      "Forma de los datos:\n",
      "(699, 11)\n"
     ]
    }
   ],
   "source": [
    "import csv\n",
    "import numpy as np\n",
    "from sklearn.model_selection import train_test_split\n",
    "from sklearn.naive_bayes import GaussianNB\n",
    "from sklearn.naive_bayes import BernoulliNB\n",
    "from sklearn.metrics import confusion_matrix\n",
    "from sklearn.metrics import classification_report\n",
    "import matplotlib.pyplot as plt\n",
    "import seaborn as sns; sns.set()\n",
    "from sklearn.impute import SimpleImputer\n",
    "\n",
    "\n",
    "with open(\"breast-cancer-wisconsin.txt\", \"r\") as entrada:\n",
    "    datos_sucios = entrada.readlines()\n",
    "\n",
    "datos = []\n",
    "for dato in datos_sucios:\n",
    "    dato = dato.replace(\"\\n\",\"\")\n",
    "    dato = dato.replace(\"?\",\"0\")\n",
    "    datos.append(dato.split(\",\"))\n",
    "\n",
    "datos = np.array(datos)\n",
    "print(\"Forma de los datos:\")\n",
    "print(datos.shape)"
   ]
  },
  {
   "cell_type": "markdown",
   "metadata": {},
   "source": [
    "La forma de los datos correcta nos indica que todos los campos se encuentran llenos y que ya no faltan valores por poner. Sin embargo, aun no se introduce en los valores faltantes, el valor de la media. Eso se hace a continuación. También a continuación se cambia la etiqueta \"2\" por 0 y \"4\" por 1."
   ]
  },
  {
   "cell_type": "code",
   "execution_count": 80,
   "metadata": {},
   "outputs": [
    {
     "name": "stdout",
     "output_type": "stream",
     "text": [
      "[[ 5.  1.  1. ...  3.  1.  1.]\n",
      " [ 5.  4.  4. ...  3.  2.  1.]\n",
      " [ 3.  1.  1. ...  3.  1.  1.]\n",
      " ...\n",
      " [ 5. 10. 10. ...  8. 10.  2.]\n",
      " [ 4.  8.  6. ... 10.  6.  1.]\n",
      " [ 4.  8.  8. ... 10.  4.  1.]]\n",
      "[0 0 0 0 0 1 0 0 0 0 0 0 1 0 1 1 0 0 1 0 1 1 0 1 0 1 0 0 0 0 0 0 1 0 0 0 1\n",
      " 0 1 1 0 1 1 1 1 0 1 0 0 1 1 1 1 1 1 1 1 1 1 1 1 0 1 1 0 1 0 1 1 0 0 1 0 1\n",
      " 1 0 0 0 0 0 0 0 0 0 1 1 1 1 0 0 0 0 0 0 0 0 0 0 1 1 1 1 0 1 1 1 1 1 0 1 0\n",
      " 1 1 1 0 0 0 1 0 0 0 0 1 1 1 0 1 0 1 0 0 0 1 0 0 0 0 0 0 0 0 0 1 0 0 0 1 0\n",
      " 0 1 0 1 1 0 0 1 0 0 0 1 1 0 0 0 0 0 1 1 0 0 0 0 0 1 1 1 0 1 0 1 0 0 0 1 1\n",
      " 0 1 1 1 0 1 1 0 0 0 0 0 0 0 0 1 1 0 0 0 1 1 0 0 0 1 1 0 1 1 1 0 0 1 0 0 1\n",
      " 1 1 1 0 1 1 0 1 1 1 0 1 0 0 1 1 1 1 0 0 0 0 0 0 1 1 0 0 0 1 0 1 1 1 0 0 0\n",
      " 0 1 1 1 1 1 0 1 1 1 0 1 0 1 1 0 0 0 0 0 1 0 0 1 1 1 1 1 0 1 1 0 0 1 1 0 1\n",
      " 0 0 0 1 1 0 1 0 1 1 0 0 1 0 0 0 1 0 0 0 1 1 0 0 1 0 0 1 0 0 1 0 1 1 1 0 0\n",
      " 1 1 0 1 0 0 1 1 0 0 0 1 0 0 0 1 1 0 0 0 1 0 0 1 1 1 1 1 1 0 0 0 0 1 1 0 0\n",
      " 0 0 0 0 0 0 0 0 0 0 0 1 0 0 0 0 1 0 0 0 0 1 0 0 0 0 0 0 0 0 1 0 0 0 0 0 0\n",
      " 0 0 0 0 0 1 0 1 0 1 0 0 0 0 1 0 0 0 1 0 1 0 0 0 0 0 0 0 1 1 0 0 0 1 0 0 0\n",
      " 0 0 0 0 0 1 0 0 0 1 0 1 1 1 0 0 0 0 0 0 0 1 1 1 0 0 0 0 0 0 0 0 0 0 0 1 0\n",
      " 0 1 1 0 0 0 1 1 1 0 1 0 1 0 0 0 0 0 0 0 0 0 0 0 0 1 0 0 0 0 0 0 0 1 1 0 0\n",
      " 0 1 0 0 1 1 0 0 0 0 0 0 1 0 0 0 0 0 0 0 0 0 0 0 0 0 0 0 1 0 0 1 0 0 0 0 0\n",
      " 0 0 0 0 0 0 0 0 0 0 1 0 0 1 1 1 1 0 0 1 0 0 0 0 0 0 1 1 0 0 0 1 0 1 0 1 1\n",
      " 1 0 1 0 0 0 0 0 0 0 0 1 1 1 0 0 1 0 1 1 1 0 0 0 0 0 0 0 0 0 0 0 0 0 1 0 0\n",
      " 0 0 0 0 1 0 0 1 0 0 0 0 0 0 0 0 0 0 0 1 0 0 0 0 0 0 0 0 0 1 0 0 0 0 0 0 0\n",
      " 0 0 1 1 1 0 0 0 0 0 0 0 0 0 1 1 0 0 0 0 0 0 0 0 0 1 0 0 0 0 1 1 1]\n"
     ]
    }
   ],
   "source": [
    "imp_mean = SimpleImputer(missing_values=0, strategy='mean')\n",
    "datos = imp_mean.fit_transform(datos)\n",
    "\n",
    "x_train = []\n",
    "y_train = []\n",
    "\n",
    "for contador,dato in enumerate(datos):\n",
    "    x_train.append((dato[1:-1]))\n",
    "    y_train.append(int(dato[-1]))\n",
    "\n",
    "Y = []\n",
    "for dato in y_train:\n",
    "    if dato == 2:\n",
    "        dato = 0\n",
    "        Y.append(dato)\n",
    "    else:\n",
    "        dato = 1\n",
    "        Y.append(dato)\n",
    "\n",
    "X = np.array(x_train)\n",
    "Y = np.array(Y)\n",
    "\n",
    "print(X)\n",
    "print(Y)"
   ]
  },
  {
   "cell_type": "markdown",
   "metadata": {},
   "source": [
    "Nuestros datos ahora están limpios de valores desconocidos."
   ]
  },
  {
   "cell_type": "markdown",
   "metadata": {},
   "source": [
    "## Entrenamiento\n",
    "Partimos nuestro modelo en prueba y entrenamiento, y modelamos con los de entrenamiento.\n",
    "\n",
    "Utilizaremos Naive Bayes con distribución normal, y otro con distribución de Bernoulli"
   ]
  },
  {
   "cell_type": "code",
   "execution_count": 81,
   "metadata": {},
   "outputs": [
    {
     "data": {
      "text/plain": [
       "BernoulliNB(alpha=1.0, binarize=0.0, class_prior=None, fit_prior=True)"
      ]
     },
     "execution_count": 81,
     "metadata": {},
     "output_type": "execute_result"
    }
   ],
   "source": [
    "X_train, X_test, Y_train, Y_test = train_test_split(X, Y, test_size=0.30, shuffle = True)\n",
    "clfG = GaussianNB()\n",
    "clfG.fit(X_train,Y_train)\n",
    "\n",
    "clfB = BernoulliNB()\n",
    "clfB.fit(X_train,Y_train)"
   ]
  },
  {
   "cell_type": "markdown",
   "metadata": {},
   "source": [
    "## Resultados \n",
    "Obtenemos los scores para cada modelo."
   ]
  },
  {
   "cell_type": "code",
   "execution_count": 82,
   "metadata": {},
   "outputs": [
    {
     "name": "stdout",
     "output_type": "stream",
     "text": [
      "Distribución Normal:\n",
      "Prueba:  96.19047619047619 %\n",
      "Entrenamiento:  96.31901840490798 %\n",
      "Distribución de Bernoulli:\n",
      "Prueba:  64.28571428571429 %\n",
      "Entrenamiento:  66.05316973415133 %\n"
     ]
    }
   ],
   "source": [
    "print(\"Distribución Normal:\")\n",
    "print(\"Prueba: \", end =\" \")\n",
    "print(clfG.score(X_test,Y_test)*100,\"%\")\n",
    "print(\"Entrenamiento: \", end =\" \")\n",
    "print(clfG.score(X_train,Y_train)*100,\"%\")\n",
    "\n",
    "print(\"Distribución de Bernoulli:\")\n",
    "print(\"Prueba: \", end =\" \")\n",
    "print(clfB.score(X_test,Y_test)*100,\"%\")\n",
    "print(\"Entrenamiento: \", end =\" \")\n",
    "print(clfB.score(X_train,Y_train)*100,\"%\")"
   ]
  },
  {
   "cell_type": "markdown",
   "metadata": {},
   "source": [
    "Es notorio que la distribución normal ha funcionado mejor en este ejercicio. Veamos ahora las matrices de confusión.\n",
    "\n",
    "\n",
    "### Distribución normal, datos de entrenamiento"
   ]
  },
  {
   "cell_type": "code",
   "execution_count": 88,
   "metadata": {},
   "outputs": [
    {
     "name": "stdout",
     "output_type": "stream",
     "text": [
      "              precision    recall  f1-score   support\n",
      "\n",
      "   No Cancer       0.99      0.96      0.97       323\n",
      "      Cancer       0.92      0.98      0.95       166\n",
      "\n",
      "   micro avg       0.96      0.96      0.96       489\n",
      "   macro avg       0.95      0.97      0.96       489\n",
      "weighted avg       0.96      0.96      0.96       489\n",
      "\n"
     ]
    },
    {
     "data": {
      "image/png": "[encoded data removed]",
      "text/plain": [
       "<Figure size 432x288 with 1 Axes>"
      ]
     },
     "metadata": {},
     "output_type": "display_data"
    }
   ],
   "source": [
    "y_predG_train = clfG.predict(X_train)\n",
    "y_predG_test = clfG.predict(X_test)\n",
    "y_predB_train = clfB.predict(X_train)\n",
    "y_predB_test = clfB.predict(X_test)\n",
    "\n",
    "cmG_train = confusion_matrix(Y_train, y_predG_train)\n",
    "cmG_test = confusion_matrix(Y_test, y_predG_test)\n",
    "cmB_train = confusion_matrix(Y_train, y_predB_train)\n",
    "cmB_test = confusion_matrix(Y_test, y_predB_test)\n",
    "\n",
    "names = np.unique(y_predG_train)\n",
    "sns.heatmap(cmG_train, square=True, annot=True, fmt='d', cbar=False,\n",
    "            xticklabels=names, yticklabels=names)\n",
    "plt.xlabel('Observaciones')\n",
    "plt.ylabel('Predicciones')\n",
    "\n",
    "target_names = ['No Cancer','Cancer']\n",
    "print (classification_report(Y_train, y_predG_train,target_names=target_names))"
   ]
  },
  {
   "cell_type": "markdown",
   "metadata": {},
   "source": [
    "El número de observaciones con No Cancer, que fueron clasificadas como cancer, fueron 4. Menor que los Cancer que fueron clasificados como No Cancer.\n",
    "\n",
    "### Distribución normal, datos de prueba\n"
   ]
  },
  {
   "cell_type": "code",
   "execution_count": 89,
   "metadata": {},
   "outputs": [
    {
     "name": "stdout",
     "output_type": "stream",
     "text": [
      "              precision    recall  f1-score   support\n",
      "\n",
      "   No Cancer       0.99      0.95      0.97       135\n",
      "      Cancer       0.91      0.99      0.95        75\n",
      "\n",
      "   micro avg       0.96      0.96      0.96       210\n",
      "   macro avg       0.95      0.97      0.96       210\n",
      "weighted avg       0.96      0.96      0.96       210\n",
      "\n"
     ]
    },
    {
     "data": {
      "image/png": "[encoded data removed]",
      "text/plain": [
       "<Figure size 432x288 with 1 Axes>"
      ]
     },
     "metadata": {},
     "output_type": "display_data"
    }
   ],
   "source": [
    "names = np.unique(y_predG_test)\n",
    "sns.heatmap(cmG_test, square=True, annot=True, fmt='d', cbar=False,\n",
    "            xticklabels=names, yticklabels=names)\n",
    "plt.xlabel('Observaciones')\n",
    "plt.ylabel('Predicciones')\n",
    "\n",
    "target_names = ['No Cancer','Cancer']\n",
    "print (classification_report(Y_test, y_predG_test,target_names=target_names))"
   ]
  },
  {
   "cell_type": "markdown",
   "metadata": {},
   "source": [
    "El caso es igual al anterior, pero con menos errores.\n",
    "\n",
    "Observemos ahora cómo se comportan las características dependiendo de la etiqueta."
   ]
  },
  {
   "cell_type": "code",
   "execution_count": 91,
   "metadata": {},
   "outputs": [
    {
     "data": {
      "text/plain": [
       "([array([110.,  29.,  64.,  45.,  61.,  11.,   0.,   3.,   0.,   0.]),\n",
       "  array([270.,  27.,  18.,   6.,   0.,   1.,   0.,   1.,   0.,   0.]),\n",
       "  array([245.,  38.,  26.,   9.,   2.,   2.,   0.,   1.,   0.,   0.]),\n",
       "  array([263.,  27.,  25.,   3.,   1.,   3.,   0.,   0.,   0.,   1.]),\n",
       "  array([ 32., 261.,  19.,   5.,   1.,   0.,   3.,   1.,   0.,   1.]),\n",
       "  array([275.,  16.,  20.,   3.,   7.,   0.,   0.,   0.,   0.,   2.]),\n",
       "  array([102., 116.,  91.,   6.,   4.,   1.,   3.,   0.,   0.,   0.]),\n",
       "  array([287.,  20.,   7.,   0.,   1.,   3.,   2.,   2.,   1.,   0.]),\n",
       "  array([313.,   7.,   0.,   0.,   1.,   0.,   1.,   1.,   0.,   0.])],\n",
       " array([ 1. ,  1.9,  2.8,  3.7,  4.6,  5.5,  6.4,  7.3,  8.2,  9.1, 10. ]),\n",
       " <a list of 9 Lists of Patches objects>)"
      ]
     },
     "execution_count": 91,
     "metadata": {},
     "output_type": "execute_result"
    },
    {
     "data": {
      "image/png": "[encoded data removed]",
      "text/plain": [
       "<Figure size 432x288 with 1 Axes>"
      ]
     },
     "metadata": {},
     "output_type": "display_data"
    }
   ],
   "source": [
    "datos0=[]\n",
    "datos1=[]\n",
    "\n",
    "for dato, etiqueta in zip(X_train,Y_train):\n",
    "    if etiqueta == 0:\n",
    "        datos0.append(dato)\n",
    "    else:\n",
    "        datos1.append(dato)\n",
    "\n",
    "datos0 = np.array(datos0)\n",
    "datos1 = np.array(datos1)\n",
    "plt.hist(datos0)"
   ]
  },
  {
   "cell_type": "code",
   "execution_count": 92,
   "metadata": {},
   "outputs": [
    {
     "data": {
      "text/plain": [
       "([array([ 3.,  3.,  8.,  8., 34., 11., 16., 28., 10., 45.]),\n",
       "  array([ 4.,  4., 19., 23., 20., 16., 12., 21.,  3., 44.]),\n",
       "  array([ 2.,  6., 14., 21., 20., 20., 22., 19.,  6., 36.]),\n",
       "  array([22., 11., 23., 19., 14., 15.,  9., 15.,  2., 36.]),\n",
       "  array([ 1., 18., 33., 27., 19., 23.,  7., 14.,  1., 23.]),\n",
       "  array([ 9.,  6., 12.,  7., 17.,  2.,  6., 15.,  5., 87.]),\n",
       "  array([ 1.,  6., 23., 22., 21.,  7., 48., 21.,  7., 10.]),\n",
       "  array([28.,  4., 24., 11., 12., 15., 10., 12.,  8., 42.]),\n",
       "  array([90., 22., 20.,  7.,  4.,  2.,  7.,  5.,  0.,  9.])],\n",
       " array([ 1. ,  1.9,  2.8,  3.7,  4.6,  5.5,  6.4,  7.3,  8.2,  9.1, 10. ]),\n",
       " <a list of 9 Lists of Patches objects>)"
      ]
     },
     "execution_count": 92,
     "metadata": {},
     "output_type": "execute_result"
    },
    {
     "data": {
      "image/png": "[encoded data removed]",
      "text/plain": [
       "<Figure size 432x288 with 1 Axes>"
      ]
     },
     "metadata": {},
     "output_type": "display_data"
    }
   ],
   "source": [
    "plt.hist(datos1)"
   ]
  },
  {
   "cell_type": "markdown",
   "metadata": {},
   "source": [
    "Ambos comportamientos no se amoldan a distribuciones conocidas, pero la primera tiene un patrón mucho más diferenciable que la segunda. Es decir, se esperaría que se clasificaran mejor los No Cancer que los Cáncer, ya que los Cancer tienen una presencia uniforme de todas las características, mientras que los No Cancer carecen de las características más hacia la derecha de la gráfica.\n"
   ]
  },
  {
   "cell_type": "code",
   "execution_count": null,
   "metadata": {},
   "outputs": [],
   "source": []
  }
 ],
 "metadata": {
  "kernelspec": {
   "display_name": "Python 3",
   "language": "python",
   "name": "python3"
  },
  "language_info": {
   "codemirror_mode": {
    "name": "ipython",
    "version": 3
   },
   "file_extension": ".py",
   "mimetype": "text/x-python",
   "name": "python",
   "nbconvert_exporter": "python",
   "pygments_lexer": "ipython3",
   "version": "3.6.5"
  }
 },
 "nbformat": 4,
 "nbformat_minor": 2
}
